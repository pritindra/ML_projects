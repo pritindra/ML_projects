{
 "cells": [
  {
   "cell_type": "code",
   "execution_count": 24,
   "metadata": {},
   "outputs": [],
   "source": [
    "import pandas as pd\n",
    "import matplotlib.pyplot as plt\n",
    "import numpy as np\n",
    "import csv\n",
    "import openpyxl\n",
    "# from openpyxl import load_workbook"
   ]
  },
  {
   "cell_type": "code",
   "execution_count": 10,
   "metadata": {},
   "outputs": [
    {
     "name": "stdout",
     "output_type": "stream",
     "text": [
      "Defaulting to user installation because normal site-packages is not writeable\n",
      "Requirement already satisfied: openpyxl in /home/drex/.local/lib/python3.6/site-packages (3.0.7)\n",
      "Requirement already satisfied: et-xmlfile in /home/drex/.local/lib/python3.6/site-packages (from openpyxl) (1.1.0)\n",
      "\u001b[33mWARNING: You are using pip version 21.1.3; however, version 21.2.4 is available.\n",
      "You should consider upgrading via the '/usr/bin/python3 -m pip install --upgrade pip' command.\u001b[0m\n"
     ]
    }
   ],
   "source": [
    "!pip3 install openpyxl"
   ]
  },
  {
   "cell_type": "code",
   "execution_count": 43,
   "metadata": {},
   "outputs": [
    {
     "data": {
      "text/html": [
       "<div>\n",
       "<style scoped>\n",
       "    .dataframe tbody tr th:only-of-type {\n",
       "        vertical-align: middle;\n",
       "    }\n",
       "\n",
       "    .dataframe tbody tr th {\n",
       "        vertical-align: top;\n",
       "    }\n",
       "\n",
       "    .dataframe thead th {\n",
       "        text-align: right;\n",
       "    }\n",
       "</style>\n",
       "<table border=\"1\" class=\"dataframe\">\n",
       "  <thead>\n",
       "    <tr style=\"text-align: right;\">\n",
       "      <th></th>\n",
       "      <th>tweet_id</th>\n",
       "      <th>text</th>\n",
       "      <th>task1</th>\n",
       "      <th>task2</th>\n",
       "      <th>ID</th>\n",
       "    </tr>\n",
       "  </thead>\n",
       "  <tbody>\n",
       "    <tr>\n",
       "      <th>0</th>\n",
       "      <td>1.127513e+18</td>\n",
       "      <td>RT @_SwarajIndia: देश के चुनाव को सुनियोजित तर...</td>\n",
       "      <td>HOF</td>\n",
       "      <td>OFFN</td>\n",
       "      <td>hasoc_2020_hi_4007</td>\n",
       "    </tr>\n",
       "    <tr>\n",
       "      <th>1</th>\n",
       "      <td>1.123822e+18</td>\n",
       "      <td>RT @YadavsAniruddh: #श्रीनगर में एक #आतंकवादी ...</td>\n",
       "      <td>NOT</td>\n",
       "      <td>NONE</td>\n",
       "      <td>hasoc_2020_hi_1548</td>\n",
       "    </tr>\n",
       "    <tr>\n",
       "      <th>2</th>\n",
       "      <td>1.123733e+18</td>\n",
       "      <td>RT @KapilMishra_IND: चाइना ने नेहरू जी की बहुत...</td>\n",
       "      <td>NOT</td>\n",
       "      <td>NONE</td>\n",
       "      <td>hasoc_2020_hi_612</td>\n",
       "    </tr>\n",
       "    <tr>\n",
       "      <th>3</th>\n",
       "      <td>1.127646e+18</td>\n",
       "      <td>RT @HarishK04131926: @AcharyaPramodk बोलने से ...</td>\n",
       "      <td>NOT</td>\n",
       "      <td>NONE</td>\n",
       "      <td>hasoc_2020_hi_2044</td>\n",
       "    </tr>\n",
       "    <tr>\n",
       "      <th>4</th>\n",
       "      <td>1.127768e+18</td>\n",
       "      <td>RT @DhirajY09648978: #BJP_भगाओ_देश_बचाओ\\n स्वा...</td>\n",
       "      <td>HOF</td>\n",
       "      <td>HATE</td>\n",
       "      <td>hasoc_2020_hi_4304</td>\n",
       "    </tr>\n",
       "  </tbody>\n",
       "</table>\n",
       "</div>"
      ],
      "text/plain": [
       "       tweet_id                                               text task1  \\\n",
       "0  1.127513e+18  RT @_SwarajIndia: देश के चुनाव को सुनियोजित तर...   HOF   \n",
       "1  1.123822e+18  RT @YadavsAniruddh: #श्रीनगर में एक #आतंकवादी ...   NOT   \n",
       "2  1.123733e+18  RT @KapilMishra_IND: चाइना ने नेहरू जी की बहुत...   NOT   \n",
       "3  1.127646e+18  RT @HarishK04131926: @AcharyaPramodk बोलने से ...   NOT   \n",
       "4  1.127768e+18  RT @DhirajY09648978: #BJP_भगाओ_देश_बचाओ\\n स्वा...   HOF   \n",
       "\n",
       "  task2                  ID  \n",
       "0  OFFN  hasoc_2020_hi_4007  \n",
       "1  NONE  hasoc_2020_hi_1548  \n",
       "2  NONE   hasoc_2020_hi_612  \n",
       "3  NONE  hasoc_2020_hi_2044  \n",
       "4  HATE  hasoc_2020_hi_4304  "
      ]
     },
     "execution_count": 43,
     "metadata": {},
     "output_type": "execute_result"
    }
   ],
   "source": [
    "# df = pd.read_excel(\"dataset/hindi.xlsx\", engine=\"openpyxl\")\n",
    "wb = load_workbook(\"dataset/hindi.xlsx\")\n",
    "sheet = wb.active\n",
    "col = csv.writer(open(\"tt.csv\", 'w', newline=\"\"))\n",
    "for r in sheet.rows:\n",
    "    col.writerow([cell.value for cell in r])\n",
    "  \n",
    "df = pd.DataFrame(pd.read_csv(\"tt.csv\"))\n",
    "df.to_csv(\"dataset/hindi.csv\", sep=\",\")\n",
    "df.head(5)"
   ]
  },
  {
   "cell_type": "code",
   "execution_count": 28,
   "metadata": {},
   "outputs": [
    {
     "data": {
      "text/html": [
       "<div>\n",
       "<style scoped>\n",
       "    .dataframe tbody tr th:only-of-type {\n",
       "        vertical-align: middle;\n",
       "    }\n",
       "\n",
       "    .dataframe tbody tr th {\n",
       "        vertical-align: top;\n",
       "    }\n",
       "\n",
       "    .dataframe thead th {\n",
       "        text-align: right;\n",
       "    }\n",
       "</style>\n",
       "<table border=\"1\" class=\"dataframe\">\n",
       "  <thead>\n",
       "    <tr style=\"text-align: right;\">\n",
       "      <th></th>\n",
       "      <th>text</th>\n",
       "      <th>task1</th>\n",
       "      <th>task2</th>\n",
       "    </tr>\n",
       "  </thead>\n",
       "  <tbody>\n",
       "    <tr>\n",
       "      <th>0</th>\n",
       "      <td>RT @_SwarajIndia: देश के चुनाव को सुनियोजित तर...</td>\n",
       "      <td>HOF</td>\n",
       "      <td>OFFN</td>\n",
       "    </tr>\n",
       "    <tr>\n",
       "      <th>1</th>\n",
       "      <td>RT @YadavsAniruddh: #श्रीनगर में एक #आतंकवादी ...</td>\n",
       "      <td>NOT</td>\n",
       "      <td>NONE</td>\n",
       "    </tr>\n",
       "    <tr>\n",
       "      <th>2</th>\n",
       "      <td>RT @KapilMishra_IND: चाइना ने नेहरू जी की बहुत...</td>\n",
       "      <td>NOT</td>\n",
       "      <td>NONE</td>\n",
       "    </tr>\n",
       "    <tr>\n",
       "      <th>3</th>\n",
       "      <td>RT @HarishK04131926: @AcharyaPramodk बोलने से ...</td>\n",
       "      <td>NOT</td>\n",
       "      <td>NONE</td>\n",
       "    </tr>\n",
       "    <tr>\n",
       "      <th>4</th>\n",
       "      <td>RT @DhirajY09648978: #BJP_भगाओ_देश_बचाओ\\n स्वा...</td>\n",
       "      <td>HOF</td>\n",
       "      <td>HATE</td>\n",
       "    </tr>\n",
       "  </tbody>\n",
       "</table>\n",
       "</div>"
      ],
      "text/plain": [
       "                                                text task1 task2\n",
       "0  RT @_SwarajIndia: देश के चुनाव को सुनियोजित तर...   HOF  OFFN\n",
       "1  RT @YadavsAniruddh: #श्रीनगर में एक #आतंकवादी ...   NOT  NONE\n",
       "2  RT @KapilMishra_IND: चाइना ने नेहरू जी की बहुत...   NOT  NONE\n",
       "3  RT @HarishK04131926: @AcharyaPramodk बोलने से ...   NOT  NONE\n",
       "4  RT @DhirajY09648978: #BJP_भगाओ_देश_बचाओ\\n स्वा...   HOF  HATE"
      ]
     },
     "execution_count": 28,
     "metadata": {},
     "output_type": "execute_result"
    }
   ],
   "source": [
    "df.head(5)"
   ]
  },
  {
   "cell_type": "code",
   "execution_count": 54,
   "metadata": {},
   "outputs": [
    {
     "name": "stderr",
     "output_type": "stream",
     "text": [
      "/home/drex/.local/lib/python3.6/site-packages/ipykernel_launcher.py:4: SettingWithCopyWarning: \n",
      "A value is trying to be set on a copy of a slice from a DataFrame.\n",
      "Try using .loc[row_indexer,col_indexer] = value instead\n",
      "\n",
      "See the caveats in the documentation: http://pandas.pydata.org/pandas-docs/stable/indexing.html#indexing-view-versus-copy\n",
      "  after removing the cwd from sys.path.\n"
     ]
    },
    {
     "data": {
      "text/html": [
       "<div>\n",
       "<style scoped>\n",
       "    .dataframe tbody tr th:only-of-type {\n",
       "        vertical-align: middle;\n",
       "    }\n",
       "\n",
       "    .dataframe tbody tr th {\n",
       "        vertical-align: top;\n",
       "    }\n",
       "\n",
       "    .dataframe thead th {\n",
       "        text-align: right;\n",
       "    }\n",
       "</style>\n",
       "<table border=\"1\" class=\"dataframe\">\n",
       "  <thead>\n",
       "    <tr style=\"text-align: right;\">\n",
       "      <th></th>\n",
       "      <th>text</th>\n",
       "      <th>task2</th>\n",
       "    </tr>\n",
       "  </thead>\n",
       "  <tbody>\n",
       "    <tr>\n",
       "      <th>0</th>\n",
       "      <td>RT @_SwarajIndia: देश के चुनाव को सुनियोजित तर...</td>\n",
       "      <td>1.0</td>\n",
       "    </tr>\n",
       "    <tr>\n",
       "      <th>1</th>\n",
       "      <td>RT @YadavsAniruddh: #श्रीनगर में एक #आतंकवादी ...</td>\n",
       "      <td>0.0</td>\n",
       "    </tr>\n",
       "    <tr>\n",
       "      <th>2</th>\n",
       "      <td>RT @KapilMishra_IND: चाइना ने नेहरू जी की बहुत...</td>\n",
       "      <td>0.0</td>\n",
       "    </tr>\n",
       "    <tr>\n",
       "      <th>3</th>\n",
       "      <td>RT @HarishK04131926: @AcharyaPramodk बोलने से ...</td>\n",
       "      <td>0.0</td>\n",
       "    </tr>\n",
       "    <tr>\n",
       "      <th>4</th>\n",
       "      <td>RT @DhirajY09648978: #BJP_भगाओ_देश_बचाओ\\n स्वा...</td>\n",
       "      <td>1.0</td>\n",
       "    </tr>\n",
       "  </tbody>\n",
       "</table>\n",
       "</div>"
      ],
      "text/plain": [
       "                                                text  task2\n",
       "0  RT @_SwarajIndia: देश के चुनाव को सुनियोजित तर...    1.0\n",
       "1  RT @YadavsAniruddh: #श्रीनगर में एक #आतंकवादी ...    0.0\n",
       "2  RT @KapilMishra_IND: चाइना ने नेहरू जी की बहुत...    0.0\n",
       "3  RT @HarishK04131926: @AcharyaPramodk बोलने से ...    0.0\n",
       "4  RT @DhirajY09648978: #BJP_भगाओ_देश_बचाओ\\n स्वा...    1.0"
      ]
     },
     "execution_count": 54,
     "metadata": {},
     "output_type": "execute_result"
    }
   ],
   "source": [
    "cols = ['text', 'task2']\n",
    "df_2 = df[cols]\n",
    "# df_2.replace(to_replace=[\"HATE, OFFN\"], value=\"1\")\n",
    "df_2['task2'] = df_2['task2'].map({'HATE':1,'OFFN':1, 'NONE':0})\n",
    "df_2.head()"
   ]
  },
  {
   "cell_type": "code",
   "execution_count": 53,
   "metadata": {},
   "outputs": [
    {
     "name": "stdout",
     "output_type": "stream",
     "text": [
      "{'उस', 'उंहों', 'उन्हीं', 'यिह ', 'किसे', 'हुई', 'मुझे', 'इन', 'जब', 'कोनसा', 'दूसरे', 'इंहें', 'वर्ग', 'दवारा', 'जिंहों', 'फिर', 'तरह', 'अर्थात', 'करें', 'पर  ', 'थि', 'उनको', 'इन ', 'वहीं', 'अपनि', 'बनि', 'सकता', 'संग', 'नहिं', 'ऱ्वासा', 'सो', 'आप', 'मगर', 'आदि', 'लेकिन', 'जिधर', 'वरग', 'अंदर', 'किया', 'तू', \"बात' \", 'इसमें', 'उसी', 'होने', 'किंहें', 'किस', 'पे', 'वह', 'जेसा', 'वग़ैरह', 'उंहिं', 'इसके', 'ना', 'उन्हों', 'सबसे', 'उन्ह', 'कहता', 'मे', 'एसे', 'वगेरह', 'जहां', 'सभी', 'जिन', 'वहां', 'पुरा', 'इनका', 'पास', 'दिया', 'न', 'यही', 'अप', 'दो', 'इन्हों', 'बाला', 'नीचे', 'ले', 'तिसे', 'द्वारा', 'तेरी', 'एस', 'उसने', 'बाद', 'इसकि', 'इंहिं', 'का', 'इसकी', 'गया', 'लिये', 'तुझे', 'ओर', 'किंहों', 'ऐसा', 'जिन्हें', 'पूरा', 'ने', 'बही', 'मुझ', 'में', 'उसकी', 'सारा', 'क्या', 'किसि', 'ही', 'तो', 'रखें', 'हुइ', 'होते', 'हम', 'दुसरा', 'भी', 'तिन्हों', 'हि', 'घर', 'मेरी', 'कारण', 'हुआ', 'हुअ', 'कोई', 'होती', 'करने', 'निचे', 'तुम', 'तिंहों', 'यह', 'साबुत', 'एवं', 'जितना', 'जीधर', 'कुल', 'सकते', 'तिन्हें', 'तिस', 'तब', 'साम्हने', 'हैं', 'जैसे', 'उन्होंने', 'की', 'अपने', 'अभी', 'तिन', 'इसि', 'कितना', 'जिंहें', 'ये', 'किर', 'उंहें', 'मेरे', 'ऐसे', 'या', 'उनकी', 'यहां', 'रह', 'जा', 'किन्हें', 'जिस', 'नहीं', 'उनका', 'भितर', 'जैसा', 'वुह', 'काफि', 'कोइ', 'कि', 'जेसे', 'कहा', 'यदि', 'मानो', 'बनी', 'वुह ', 'पहले', 'हूं', 'हे', 'दे', 'है', 'कुछ', 'तुम्हारे', 'निहायत', 'काफ़ी', 'उसको', 'देकर', 'सभि', 'भि', 'वहाँ', 'वह ', 'दबारा', 'उसि', 'साभ', 'हुए', 'था', 'यहि', 'अदि', 'तिंहें', 'साथ', 'से', 'दुसरे', 'रहा', 'अपना', 'किसी', 'जो', 'उनकि', 'इसका', 'यिह', 'वाले', 'रवासा', 'वे', 'किन्हों', 'थी', 'उनके', 'और', 'इंहों', 'एक', 'इसे', 'इन्हें', 'उसका', 'उसके', 'बहुत', 'तेरा', 'तेरे', 'इन्हीं', 'इत्यादि', 'कौन', 'इसी', 'के', 'इसलिये', 'होता', 'लिए', 'कहते', 'जहाँ', 'थे', 'हें', 'करता', 'रहे', 'इस', 'कह', 'अभि', 'जिसे', 'गए', 'तक', 'क्योंकि', 'वहिं', 'सब', 'कौनसा', 'हो', 'होना', 'उन्हें', 'पर', 'अनुसार', 'मैं', 'करते', 'कर', 'भीतर', 'व', 'परन्तु', 'अपनी', 'को', 'अत', 'कई', 'उसे', 'बहि', 'जिन्हों', 'उन', \"इतयादि' ,'यहाँ\", 'कोन', 'करना', 'बिलकुल', 'कइ', 'होति'}\n"
     ]
    }
   ],
   "source": [
    "import collections\n",
    "\n",
    "with open(\"dataset/Hindi_StopWords.txt\",encoding='utf-8') as f:\n",
    "    stopword= f.read().strip('\\ufeff')\n",
    "stopword = stopword.split(\", \")\n",
    "stopword = [i.strip(\"'\") for i in stopword]\n",
    "\n",
    "stopwords = set(stopword)\n",
    "print(stopwords)"
   ]
  },
  {
   "cell_type": "code",
   "execution_count": 59,
   "metadata": {},
   "outputs": [],
   "source": [
    "import itertools\n",
    "\n",
    "hate_det = df_2[df_2.task2==1]\n",
    "hate_det.reset_index(drop=True, inplace=True)\n",
    "acc_det = df_2[df_2.task2==0]\n",
    "acc_det.reset_index(drop=True, inplace=True)\n",
    "\n",
    "# Tokenization\n",
    "hate_news = []\n",
    "for rows in range(0, hate_det.shape[0]):\n",
    "    head_txt = hate_det.text[rows]\n",
    "    head_txt = head_txt.split(\" \")\n",
    "    hate_news.append(head_txt)\n",
    "    \n",
    "hate_list = list(itertools.chain(*hate_news))\n",
    "\n",
    "acc_news = []\n",
    "for rows in range(0, acc_det.shape[0]):\n",
    "    head_txt = acc_det.text[rows]\n",
    "    head_txt = head_txt.split(\" \")\n",
    "    hate_news.append(head_txt)\n",
    "    \n",
    "acc_list = list(itertools.chain(*acc_news))"
   ]
  },
  {
   "cell_type": "code",
   "execution_count": 60,
   "metadata": {},
   "outputs": [],
   "source": [
    "hate_list_restp = [word for word in hate_list if word.lower() not in stopwords]\n",
    "acc_list_restp = [word for word in acc_list if word.lower() not in stopwords]"
   ]
  },
  {
   "cell_type": "code",
   "execution_count": null,
   "metadata": {},
   "outputs": [],
   "source": []
  }
 ],
 "metadata": {
  "kernelspec": {
   "display_name": "Python 3",
   "language": "python",
   "name": "python3"
  },
  "language_info": {
   "codemirror_mode": {
    "name": "ipython",
    "version": 3
   },
   "file_extension": ".py",
   "mimetype": "text/x-python",
   "name": "python",
   "nbconvert_exporter": "python",
   "pygments_lexer": "ipython3",
   "version": "3.6.9"
  }
 },
 "nbformat": 4,
 "nbformat_minor": 4
}
